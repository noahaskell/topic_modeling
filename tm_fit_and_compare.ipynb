{
 "cells": [
  {
   "cell_type": "code",
   "execution_count": null,
   "id": "whole-lincoln",
   "metadata": {},
   "outputs": [],
   "source": [
    "from google.colab import drive\n",
    "drive.mount('/content/drive')"
   ]
  },
  {
   "cell_type": "code",
   "execution_count": null,
   "id": "hidden-vietnam",
   "metadata": {},
   "outputs": [],
   "source": [
    "# read and write py files from github\n",
    "import requests\n",
    "prefix = \"https://raw.githubusercontent.com/noahaskell/topic_modeling/main/\"\n",
    "r = requests.get(prefix + \"comparison_funcs.py\")\n",
    "with open(\"comparison_funcs.py\", \"w\") as f:\n",
    "  f.write(r.text)\n",
    "r = requests.get(prefix + \"tm_fit_and_compare.py\")\n",
    "with open(\"tm_fit_and_compare.py\", \"w\") as f:\n",
    "  f.write(r.text)\n",
    "import comparison_funcs as cf\n",
    "from tm_fit_and_compare import fit_compare"
   ]
  },
  {
   "cell_type": "markdown",
   "id": "K_31i48gFHDF",
   "metadata": {
    "id": "K_31i48gFHDF"
   },
   "source": [
    "Setting parameters for model fits.\n",
    "1. varying iterations \n",
    "2. varying passes"
   ]
  },
  {
   "cell_type": "code",
   "execution_count": null,
   "id": "NAYhwrOz-LKt",
   "metadata": {
    "id": "NAYhwrOz-LKt"
   },
   "outputs": [],
   "source": [
    "# global params\n",
    "n_rep = 50\n",
    "n_topics = [10, 20, 40]\n",
    "corp_nums = ['05']  #, '11', '13', '17', '23', '37', '42']\n",
    "corpora = [prefix + 'data/pubmed_subset_' + x + '.tsv' for x in corp_nums]"
   ]
  },
  {
   "cell_type": "code",
   "execution_count": null,
   "id": "mineral-worcester",
   "metadata": {},
   "outputs": [],
   "source": [
    "# iterations\n",
    "seed_start = (0, 0)\n",
    "iterations = [(50, 100), (200, 400), (800, 1600)]\n",
    "passes = [(1, 1)]\n",
    "out_file = \"/content/drive/MyDrive/arlis/ident/df_iters_50_to_1600.csv\""
   ]
  },
  {
   "cell_type": "code",
   "execution_count": null,
   "id": "boolean-annex",
   "metadata": {},
   "outputs": [],
   "source": [
    "fit_compare(\n",
    "  n_rep=n_rep,\n",
    "  n_topics=n_topics,\n",
    "  seed_start=seed_start,\n",
    "  iters=iterations,\n",
    "  passes=passes,\n",
    "  corpora=corpora,\n",
    "  df_name=out_file\n",
    ")"
   ]
  },
  {
   "cell_type": "code",
   "execution_count": null,
   "id": "7cGO16Nb9xRG",
   "metadata": {
    "id": "7cGO16Nb9xRG"
   },
   "outputs": [],
   "source": [
    "# passes\n",
    "seed_start = (0, 0)\n",
    "iterations = [(50, 50)]\n",
    "passes = [(1, 2), (3, 4), (5, 6)]\n",
    "out_file = \"/content/drive/MyDrive/arlis/ident/df_passes_1_to_6.csv\""
   ]
  },
  {
   "cell_type": "code",
   "execution_count": null,
   "id": "PTPFgY5a9_JL",
   "metadata": {
    "id": "PTPFgY5a9_JL"
   },
   "outputs": [],
   "source": [
    "fit_compare(\n",
    "  n_rep=n_rep,\n",
    "  n_topics=n_topics,\n",
    "  seed_start=seed_start,\n",
    "  iters=iterations,\n",
    "  passes=passes,\n",
    "  corpora=corpora,\n",
    "  df_name=out_file\n",
    ")"
   ]
  }
 ],
 "metadata": {
  "colab": {
   "collapsed_sections": [],
   "name": "tm_fit_and_compare.ipynb",
   "provenance": [
    {
     "file_id": "https://github.com/noahaskell/topic_modeling/blob/main/tm_fit_and_compare.ipynb",
     "timestamp": 1614272180578
    }
   ]
  },
  "kernelspec": {
   "display_name": "Python 3",
   "language": "python",
   "name": "python3"
  },
  "language_info": {
   "codemirror_mode": {
    "name": "ipython",
    "version": 3
   },
   "file_extension": ".py",
   "mimetype": "text/x-python",
   "name": "python",
   "nbconvert_exporter": "python",
   "pygments_lexer": "ipython3",
   "version": "3.8.3"
  }
 },
 "nbformat": 4,
 "nbformat_minor": 5
}
