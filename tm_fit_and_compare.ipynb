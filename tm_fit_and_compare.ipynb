{
 "cells": [
  {
   "cell_type": "code",
   "execution_count": 1,
   "id": "raised-specification",
   "metadata": {},
   "outputs": [
    {
     "name": "stdout",
     "output_type": "stream",
     "text": [
      "README.md                 pubmed_subset_11.tsv      requirements.txt\r\n",
      "Untitled.ipynb            pubmed_subset_13.tsv      sampledata.csv\r\n",
      "\u001b[34m__pycache__\u001b[m\u001b[m/              pubmed_subset_17.tsv      sampledata.tsv\r\n",
      "comparison_funcs.py       pubmed_subset_23.tsv      test_comparison_funcs.py\r\n",
      "\u001b[34mfigs\u001b[m\u001b[m/                     pubmed_subset_37.tsv      tm_example.py\r\n",
      "plot.py                   pubmed_subset_3k.tsv      tm_fit_and_compare.py\r\n",
      "pubmed_subset_05.tsv      pubmed_subset_42.tsv      tm_pubmed_subset.py\r\n"
     ]
    }
   ],
   "source": []
  }
 ],
 "metadata": {
  "kernelspec": {
   "display_name": "Python 3",
   "language": "python",
   "name": "python3"
  },
  "language_info": {
   "codemirror_mode": {
    "name": "ipython",
    "version": 3
   },
   "file_extension": ".py",
   "mimetype": "text/x-python",
   "name": "python",
   "nbconvert_exporter": "python",
   "pygments_lexer": "ipython3",
   "version": "3.8.3"
  }
 },
 "nbformat": 4,
 "nbformat_minor": 5
}
