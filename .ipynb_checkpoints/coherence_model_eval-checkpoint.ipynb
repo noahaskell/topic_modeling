{
 "cells": [
  {
   "cell_type": "code",
   "execution_count": 2,
   "metadata": {},
   "outputs": [
    {
     "name": "stderr",
     "output_type": "stream",
     "text": [
      "/opt/anaconda3/lib/python3.7/site-packages/scipy/sparse/sparsetools.py:21: DeprecationWarning: `scipy.sparse.sparsetools` is deprecated!\n",
      "scipy.sparse.sparsetools is a private module for scipy.sparse, and should not be used.\n",
      "  _deprecated()\n"
     ]
    }
   ],
   "source": [
    "import numpy as np\n",
    "import pyLDAvis.gensim\n",
    "import pandas as pd\n",
    "import matplotlib.pyplot as plt\n",
    "import time\n",
    "import os\n",
    "\n",
    "from gensim import models, corpora\n",
    "from gensim.models.coherencemodel import CoherenceModel\n",
    "from gensim.models.ldamodel import LdaModel\n",
    "from gensim.corpora.dictionary import Dictionary\n",
    "\n",
    "from timeout import timeout\n",
    "\n",
    "import comparison_funcs as cf"
   ]
  },
  {
   "cell_type": "code",
   "execution_count": 3,
   "metadata": {},
   "outputs": [],
   "source": [
    "def prep_corpus(fname):\n",
    "    \"reads in file, makes a gensim-usable corpus out of it\"\n",
    "\n",
    "    with open(fname, 'r') as f:\n",
    "        docs_full = f.readlines()\n",
    "\n",
    "    docs = [x.split('\\t')[1].split() for x in docs_full]\n",
    "    for doc in docs:\n",
    "        while '<NUMBER>' in doc:\n",
    "            doc.remove('<NUMBER>')\n",
    "        while 'patient' in doc:\n",
    "            doc.remove('patient')\n",
    "        while 'cell' in doc:\n",
    "            doc.remove('cell')\n",
    "\n",
    "    dictionary = corpora.Dictionary(docs)\n",
    "    corpus = [dictionary.doc2bow(doc) for doc in docs]\n",
    "\n",
    "    return corpus, dictionary, docs\n",
    "\n",
    "\n",
    "def prep_corpus_csv(fname):\n",
    "    \"reads in file, makes a gensim-usable corpus out of it\"\n",
    "\n",
    "    d = pd.read_csv(fname)\n",
    "        \n",
    "    docs = []\n",
    "    for i in range(len(d.index)):\n",
    "        docs.append(d.iloc[i,2].split())\n",
    "    \n",
    "    for doc in docs:\n",
    "        while '<NUMBER>' in doc:\n",
    "            doc.remove('<NUMBER>')\n",
    "        while 'patient' in doc:\n",
    "            doc.remove('patient')\n",
    "        while 'cell' in doc:\n",
    "            doc.remove('cell')\n",
    "\n",
    "    dictionary = corpora.Dictionary(docs)\n",
    "    corpus = [dictionary.doc2bow(doc) for doc in docs]\n",
    "\n",
    "    return corpus, dictionary, docs\n"
   ]
  },
  {
   "cell_type": "code",
   "execution_count": 4,
   "metadata": {},
   "outputs": [],
   "source": [
    "corp, dictionary, docs = prep_corpus_csv('sampledata.csv')\n",
    "corp2, dictionary2, docs2 = prep_corpus('pubmed_subset_13.tsv')\n"
   ]
  },
  {
   "cell_type": "code",
   "execution_count": 5,
   "metadata": {},
   "outputs": [],
   "source": [
    "@timeout(30)\n",
    "def make_lda_model(k, corp, dictionary, random_state=1, iterations=1, umass=[], v=[], npmi = [], uci = [], times= []):\n",
    "        start = time.time()\n",
    "        lda_model = LdaModel(corpus = corp, id2word = dictionary, iterations = iterations, num_topics = k, random_state=random_state)\n",
    "        cm1 = CoherenceModel(model = lda_model, corpus = corp, dictionary = dictionary, coherence = 'u_mass')\n",
    "        cm2 = CoherenceModel(model = lda_model, texts = docs, dictionary = dictionary, coherence = 'c_v')\n",
    "        cm3 = CoherenceModel(model = lda_model, texts = docs, dictionary = dictionary, coherence = 'c_npmi')\n",
    "        cm4 = CoherenceModel(model = lda_model, texts = docs, dictionary = dictionary, coherence = 'c_uci')\n",
    "        with np.errstate(invalid='ignore'):\n",
    "            v_cm2 = cm2.get_coherence()\n",
    "            \n",
    "        umass.append(cm1.get_coherence())\n",
    "        v.append(v_cm2)\n",
    "        npmi.append(cm3.get_coherence())\n",
    "        uci.append(cm4.get_coherence())\n",
    "\n",
    "        end = time.time()\n",
    "        times.append(end - start)\n",
    "        \n",
    "        return umass, v, npmi, uci, times\n",
    "\n",
    "\n",
    "\n",
    "\n",
    "\n",
    "def loop_through_topics(k, corp, dictionary, random_state=1, iterations=1):\n",
    "    umass = []\n",
    "    v = []\n",
    "    npmi = []\n",
    "    uci = []\n",
    "    times = []\n",
    "\n",
    "    for i in k:\n",
    "        umass, v, npmi, uci, times = make_lda_model(i, corp, dictionary, random_state, iterations, umass, v, npmi, uci, times)\n",
    "        print('Finished model with ' + str(i) + ' topics. Time: ' + str(times[-1]))\n",
    "    \n",
    "    return umass, v, npmi, uci, times\n"
   ]
  },
  {
   "cell_type": "code",
   "execution_count": 6,
   "metadata": {},
   "outputs": [
    {
     "name": "stdout",
     "output_type": "stream",
     "text": [
      "Finished model with 10 topics. Time: 4.385828256607056\n",
      "Finished model with 12 topics. Time: 4.529783248901367\n",
      "Finished model with 14 topics. Time: 4.813238620758057\n",
      "Finished model with 16 topics. Time: 5.045055866241455\n",
      "Finished model with 18 topics. Time: 5.336339235305786\n",
      "Finished model with 20 topics. Time: 5.463424921035767\n"
     ]
    }
   ],
   "source": [
    "k = list(range(10,22,2))\n",
    "#k.remove(46)\n",
    "#k.remove(12)\n",
    "#no idea why this is happening\n",
    "\n",
    "umass, v, npmi, uci, times = loop_through_topics(k, corp, dictionary, 1,1)"
   ]
  },
  {
   "cell_type": "code",
   "execution_count": 7,
   "metadata": {},
   "outputs": [
    {
     "data": {
      "text/plain": [
       "<matplotlib.collections.PathCollection at 0x7f9f3c9a1f50>"
      ]
     },
     "execution_count": 7,
     "metadata": {},
     "output_type": "execute_result"
    },
    {
     "data": {
      "image/png": "[encoded data removed]",
      "text/plain": [
       "<Figure size 432x288 with 1 Axes>"
      ]
     },
     "metadata": {
      "needs_background": "light"
     },
     "output_type": "display_data"
    }
   ],
   "source": [
    "plt.scatter(k, umass)"
   ]
  },
  {
   "cell_type": "code",
   "execution_count": 8,
   "metadata": {},
   "outputs": [
    {
     "data": {
      "text/plain": [
       "<matplotlib.collections.PathCollection at 0x7f9f3eb8d050>"
      ]
     },
     "execution_count": 8,
     "metadata": {},
     "output_type": "execute_result"
    },
    {
     "data": {
      "image/png": "[encoded data removed]",
      "text/plain": [
       "<Figure size 432x288 with 1 Axes>"
      ]
     },
     "metadata": {
      "needs_background": "light"
     },
     "output_type": "display_data"
    }
   ],
   "source": [
    "plt.scatter(k, v)\n"
   ]
  },
  {
   "cell_type": "code",
   "execution_count": 9,
   "metadata": {},
   "outputs": [
    {
     "data": {
      "text/plain": [
       "<matplotlib.collections.PathCollection at 0x7f9f3eaf9f50>"
      ]
     },
     "execution_count": 9,
     "metadata": {},
     "output_type": "execute_result"
    },
    {
     "data": {
      "image/png": "[encoded data removed]",
      "text/plain": [
       "<Figure size 432x288 with 1 Axes>"
      ]
     },
     "metadata": {
      "needs_background": "light"
     },
     "output_type": "display_data"
    }
   ],
   "source": [
    "plt.scatter(k, uci)"
   ]
  },
  {
   "cell_type": "code",
   "execution_count": 10,
   "metadata": {},
   "outputs": [
    {
     "data": {
      "text/plain": [
       "<matplotlib.collections.PathCollection at 0x7f9f3ea6ae10>"
      ]
     },
     "execution_count": 10,
     "metadata": {},
     "output_type": "execute_result"
    },
    {
     "data": {
      "image/png": "[encoded data removed]",
      "text/plain": [
       "<Figure size 432x288 with 1 Axes>"
      ]
     },
     "metadata": {
      "needs_background": "light"
     },
     "output_type": "display_data"
    }
   ],
   "source": [
    "plt.scatter(k, npmi)"
   ]
  },
  {
   "cell_type": "code",
   "execution_count": null,
   "metadata": {},
   "outputs": [],
   "source": [
    "\n",
    "lda_model = LdaModel(corpus = corp, id2word = dictionary, iterations = 1, num_topics = 7, random_state=1)\n",
    "\n",
    "cm1 = CoherenceModel(model = lda_model, corpus = corp, dictionary = dictionary, coherence = 'u_mass')\n",
    "cm2 = CoherenceModel(model = lda_model, texts = docs[-390], dictionary = dictionary, coherence = 'c_v')\n",
    "cm3 = CoherenceModel(model = lda_model, texts = docs[-390], dictionary = dictionary, coherence = 'c_npmi')\n",
    "cm4 = CoherenceModel(model = lda_model, texts = docs[-390], dictionary = dictionary, coherence = 'c_uci')"
   ]
  },
  {
   "cell_type": "markdown",
   "metadata": {},
   "source": [
    "## To Do:\n",
    "\n",
    "- Be able to manually identify a perplexity measure and store it, along with the params for one model\n",
    "- Run the second model, searching for that perplexity value\n",
    "- Compare the two models using jaccard / diff"
   ]
  },
  {
   "cell_type": "code",
   "execution_count": null,
   "metadata": {},
   "outputs": [],
   "source": [
    "for i in range(len(docs)):\n",
    "    if len(docs[i]) < 10:\n",
    "        print(i)"
   ]
  },
  {
   "cell_type": "code",
   "execution_count": null,
   "metadata": {},
   "outputs": [],
   "source": [
    "docs[390]"
   ]
  },
  {
   "cell_type": "code",
   "execution_count": null,
   "metadata": {},
   "outputs": [],
   "source": [
    "target_perplex = -2.1"
   ]
  },
  {
   "cell_type": "code",
   "execution_count": null,
   "metadata": {},
   "outputs": [],
   "source": [
    "k = list(range(50,100,2))\n",
    "k.remove(66)\n",
    "#k.remove(12)\n",
    "#no idea why this is happening\n",
    "\n",
    "rs = 1\n",
    "\n",
    "um, cv, times = loop_through_topics(k, corp2, dictionary2, 1,rs)\n",
    "\n",
    "outdf = pd.DataFrame(list(zip(um, cv, times)))\n",
    "outdf.to_csv('tm_stats' + str(rs) + '.csv')"
   ]
  },
  {
   "cell_type": "code",
   "execution_count": null,
   "metadata": {},
   "outputs": [],
   "source": [
    "plt.scatter(k, um)"
   ]
  },
  {
   "cell_type": "code",
   "execution_count": null,
   "metadata": {},
   "outputs": [],
   "source": [
    "rs = 1\n",
    "outdf = pd.DataFrame(list(zip(um, cv, times)))\n",
    "outdf.to_csv('tm_stats' + str(rs) + '.csv')"
   ]
  },
  {
   "cell_type": "code",
   "execution_count": null,
   "metadata": {},
   "outputs": [],
   "source": [
    "m1 = LdaModel(corpus = corp2, id2word = dictionary2, iterations = 10, num_topics = 50, random_state=1)\n",
    "m2 = LdaModel(corpus = corp2, id2word = dictionary2, iterations = 10, num_topics = 50, random_state=2)"
   ]
  },
  {
   "cell_type": "code",
   "execution_count": null,
   "metadata": {},
   "outputs": [],
   "source": [
    "d, a = m1.diff(m2, diagonal=False)"
   ]
  },
  {
   "cell_type": "code",
   "execution_count": null,
   "metadata": {},
   "outputs": [],
   "source": [
    "df = pd.DataFrame(d)\n",
    "df.head()"
   ]
  },
  {
   "cell_type": "code",
   "execution_count": null,
   "metadata": {},
   "outputs": [],
   "source": [
    "mins = df.min(axis=1)"
   ]
  },
  {
   "cell_type": "code",
   "execution_count": null,
   "metadata": {},
   "outputs": [],
   "source": [
    "mins"
   ]
  },
  {
   "cell_type": "code",
   "execution_count": null,
   "metadata": {},
   "outputs": [],
   "source": []
  }
 ],
 "metadata": {
  "kernelspec": {
   "display_name": "Python 3",
   "language": "python",
   "name": "python3"
  },
  "language_info": {
   "codemirror_mode": {
    "name": "ipython",
    "version": 3
   },
   "file_extension": ".py",
   "mimetype": "text/x-python",
   "name": "python",
   "nbconvert_exporter": "python",
   "pygments_lexer": "ipython3",
   "version": "3.7.6"
  }
 },
 "nbformat": 4,
 "nbformat_minor": 4
}
