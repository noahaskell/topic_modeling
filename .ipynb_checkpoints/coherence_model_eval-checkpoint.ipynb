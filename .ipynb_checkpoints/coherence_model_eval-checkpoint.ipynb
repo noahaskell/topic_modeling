{
 "cells": [
  {
   "cell_type": "code",
   "execution_count": 1,
   "metadata": {},
   "outputs": [
    {
     "name": "stderr",
     "output_type": "stream",
     "text": [
      "/opt/anaconda3/lib/python3.7/site-packages/scipy/sparse/sparsetools.py:21: DeprecationWarning: `scipy.sparse.sparsetools` is deprecated!\n",
      "scipy.sparse.sparsetools is a private module for scipy.sparse, and should not be used.\n",
      "  _deprecated()\n"
     ]
    }
   ],
   "source": [
    "import numpy as np\n",
    "import pyLDAvis.gensim\n",
    "import pandas as pd\n",
    "import matplotlib.pyplot as plt\n",
    "import time\n",
    "import os\n",
    "\n",
    "from gensim import models, corpora\n",
    "from gensim.models.coherencemodel import CoherenceModel\n",
    "from gensim.models.ldamodel import LdaModel\n",
    "from gensim.corpora.dictionary import Dictionary\n",
    "\n",
    "from timeout import timeout\n",
    "\n",
    "import comparison_funcs as cf"
   ]
  },
  {
   "cell_type": "code",
   "execution_count": 2,
   "metadata": {},
   "outputs": [],
   "source": [
    "def prep_corpus(fname):\n",
    "    \"reads in file, makes a gensim-usable corpus out of it\"\n",
    "\n",
    "    with open(fname, 'r') as f:\n",
    "        docs_full = f.readlines()\n",
    "\n",
    "    docs = [x.split('\\t')[1].split() for x in docs_full]\n",
    "    for doc in docs:\n",
    "        while '<NUMBER>' in doc:\n",
    "            doc.remove('<NUMBER>')\n",
    "        while 'patient' in doc:\n",
    "            doc.remove('patient')\n",
    "        while 'cell' in doc:\n",
    "            doc.remove('cell')\n",
    "\n",
    "    dictionary = corpora.Dictionary(docs)\n",
    "    corpus = [dictionary.doc2bow(doc) for doc in docs]\n",
    "\n",
    "    return corpus, dictionary, docs\n",
    "\n",
    "\n",
    "def prep_corpus_csv(fname):\n",
    "    \"reads in file, makes a gensim-usable corpus out of it\"\n",
    "\n",
    "    d = pd.read_csv(fname)\n",
    "        \n",
    "    docs = []\n",
    "    for i in range(len(d.index)):\n",
    "        docs.append(d.iloc[i,2].split())\n",
    "    \n",
    "    for doc in docs:\n",
    "        while '<NUMBER>' in doc:\n",
    "            doc.remove('<NUMBER>')\n",
    "        while 'patient' in doc:\n",
    "            doc.remove('patient')\n",
    "        while 'cell' in doc:\n",
    "            doc.remove('cell')\n",
    "\n",
    "    dictionary = corpora.Dictionary(docs)\n",
    "    corpus = [dictionary.doc2bow(doc) for doc in docs]\n",
    "\n",
    "    return corpus, dictionary, docs\n"
   ]
  },
  {
   "cell_type": "code",
   "execution_count": 3,
   "metadata": {},
   "outputs": [],
   "source": [
    "corp, dictionary, docs = prep_corpus_csv('sampledata.csv')\n",
    "corp2, dictionary2, docs2 = prep_corpus('pubmed_subset_13.tsv')\n"
   ]
  },
  {
   "cell_type": "code",
   "execution_count": 4,
   "metadata": {},
   "outputs": [],
   "source": [
    "@timeout(30)\n",
    "def make_lda_model(k, corp, dictionary, random_state=1, iterations=1, umass=[], cv=[], times=[]):\n",
    "        start = time.time()\n",
    "        lda_model = LdaModel(corpus = corp, id2word = dictionary, iterations = iterations, num_topics = k, random_state=random_state)\n",
    "        cm1 = CoherenceModel(model = lda_model, corpus = corp, dictionary = dictionary, coherence = 'u_mass')\n",
    "        cm2 = CoherenceModel(model = lda_model, texts = docs, dictionary = dictionary, coherence = 'c_v')\n",
    "        with np.errstate(invalid='ignore'):\n",
    "            cv_cm2 = cm2.get_coherence()\n",
    "            \n",
    "        umass.append(cm1.get_coherence())\n",
    "        cv.append(cv_cm2)\n",
    "\n",
    "        end = time.time()\n",
    "        times.append(end - start)\n",
    "        \n",
    "        return umass, cv, times\n",
    "\n",
    "\n",
    "\n",
    "\n",
    "\n",
    "def loop_through_topics(k, corp, dictionary, random_state=1, iterations=1):\n",
    "    umass = []\n",
    "    cv = []\n",
    "    times = []\n",
    "\n",
    "    for i in k:\n",
    "        umass, cv, times = make_lda_model(i, corp, dictionary, random_state, iterations, umass, cv, times)\n",
    "        print('Finished model with ' + str(i) + ' topics. Time: ' + str(times[-1]))\n",
    "    \n",
    "    return umass, cv, times\n"
   ]
  },
  {
   "cell_type": "code",
   "execution_count": null,
   "metadata": {},
   "outputs": [],
   "source": [
    "k = list(range(40,100,10))\n",
    "#k.remove(26)\n",
    "#k.remove(12)\n",
    "#no idea why this is happening\n",
    "\n",
    "um, cv, times = loop_through_topics(k, corp2, dictionary2, 1,1)"
   ]
  },
  {
   "cell_type": "code",
   "execution_count": null,
   "metadata": {},
   "outputs": [],
   "source": [
    "plt.scatter(k, um)"
   ]
  },
  {
   "cell_type": "code",
   "execution_count": null,
   "metadata": {},
   "outputs": [],
   "source": [
    "plt.scatter(k, cv)\n",
    "# creating nans, not sure why"
   ]
  },
  {
   "cell_type": "code",
   "execution_count": null,
   "metadata": {},
   "outputs": [],
   "source": []
  },
  {
   "cell_type": "markdown",
   "metadata": {},
   "source": [
    "## To Do:\n",
    "\n",
    "- Be able to manually identify a perplexity measure and store it, along with the params for one model\n",
    "- Run the second model, searching for that perplexity value\n",
    "- Compare the two models using jaccard / diff"
   ]
  },
  {
   "cell_type": "code",
   "execution_count": null,
   "metadata": {},
   "outputs": [],
   "source": []
  },
  {
   "cell_type": "code",
   "execution_count": null,
   "metadata": {},
   "outputs": [],
   "source": []
  },
  {
   "cell_type": "code",
   "execution_count": 6,
   "metadata": {},
   "outputs": [],
   "source": [
    "target_perplex = -2.1"
   ]
  },
  {
   "cell_type": "code",
   "execution_count": 7,
   "metadata": {},
   "outputs": [
    {
     "name": "stderr",
     "output_type": "stream",
     "text": [
      "/opt/anaconda3/lib/python3.7/site-packages/gensim/topic_coherence/direct_confirmation_measure.py:204: RuntimeWarning: divide by zero encountered in double_scalars\n",
      "  m_lr_i = np.log(numerator / denominator)\n"
     ]
    },
    {
     "name": "stdout",
     "output_type": "stream",
     "text": [
      "Finished model with 50 topics. Time: 6.599323749542236\n",
      "Finished model with 52 topics. Time: 6.775893926620483\n",
      "Finished model with 54 topics. Time: 6.766344308853149\n",
      "Finished model with 56 topics. Time: 7.39414381980896\n",
      "Finished model with 58 topics. Time: 7.249446868896484\n",
      "Finished model with 60 topics. Time: 7.328322172164917\n",
      "Finished model with 62 topics. Time: 7.548957109451294\n",
      "Finished model with 64 topics. Time: 7.682478904724121\n",
      "Finished model with 68 topics. Time: 8.404802083969116\n",
      "Finished model with 70 topics. Time: 8.391406059265137\n",
      "Finished model with 72 topics. Time: 8.728726863861084\n",
      "Finished model with 74 topics. Time: 8.832854986190796\n",
      "Finished model with 76 topics. Time: 9.103187799453735\n",
      "Finished model with 78 topics. Time: 9.484638214111328\n",
      "Finished model with 80 topics. Time: 9.525152921676636\n",
      "Finished model with 82 topics. Time: 10.020076990127563\n",
      "Finished model with 84 topics. Time: 10.110887050628662\n",
      "Finished model with 86 topics. Time: 10.568992853164673\n",
      "Finished model with 88 topics. Time: 11.40974473953247\n",
      "Finished model with 90 topics. Time: 11.909707069396973\n",
      "Finished model with 92 topics. Time: 12.928780794143677\n",
      "Finished model with 94 topics. Time: 12.274900913238525\n",
      "Finished model with 96 topics. Time: 11.996039152145386\n",
      "Finished model with 98 topics. Time: 12.772329807281494\n"
     ]
    }
   ],
   "source": [
    "k = list(range(50,100,2))\n",
    "k.remove(66)\n",
    "#k.remove(12)\n",
    "#no idea why this is happening\n",
    "\n",
    "rs = 1\n",
    "\n",
    "um, cv, times = loop_through_topics(k, corp2, dictionary2, 1,rs)\n",
    "\n",
    "outdf = pd.DataFrame(list(zip(um, cv, times)))\n",
    "outdf.to_csv('tm_stats' + str(rs) + '.csv')"
   ]
  },
  {
   "cell_type": "code",
   "execution_count": 8,
   "metadata": {},
   "outputs": [
    {
     "data": {
      "text/plain": [
       "<matplotlib.collections.PathCollection at 0x7fb322444bd0>"
      ]
     },
     "execution_count": 8,
     "metadata": {},
     "output_type": "execute_result"
    },
    {
     "data": {
      "image/png": "[encoded data removed]",
      "text/plain": [
       "<Figure size 432x288 with 1 Axes>"
      ]
     },
     "metadata": {
      "needs_background": "light"
     },
     "output_type": "display_data"
    }
   ],
   "source": [
    "plt.scatter(k, um)"
   ]
  },
  {
   "cell_type": "code",
   "execution_count": 10,
   "metadata": {},
   "outputs": [],
   "source": [
    "rs = 1\n",
    "outdf = pd.DataFrame(list(zip(um, cv, times)))\n",
    "outdf.to_csv('tm_stats' + str(rs) + '.csv')"
   ]
  },
  {
   "cell_type": "code",
   "execution_count": 41,
   "metadata": {},
   "outputs": [],
   "source": [
    "m1 = LdaModel(corpus = corp2, id2word = dictionary2, iterations = 10, num_topics = 50, random_state=1)\n",
    "m2 = LdaModel(corpus = corp2, id2word = dictionary2, iterations = 10, num_topics = 50, random_state=2)"
   ]
  },
  {
   "cell_type": "code",
   "execution_count": 42,
   "metadata": {},
   "outputs": [],
   "source": [
    "d, a = m1.diff(m2, diagonal=False)"
   ]
  },
  {
   "cell_type": "code",
   "execution_count": 43,
   "metadata": {},
   "outputs": [
    {
     "data": {
      "text/html": [
       "<div>\n",
       "<style scoped>\n",
       "    .dataframe tbody tr th:only-of-type {\n",
       "        vertical-align: middle;\n",
       "    }\n",
       "\n",
       "    .dataframe tbody tr th {\n",
       "        vertical-align: top;\n",
       "    }\n",
       "\n",
       "    .dataframe thead th {\n",
       "        text-align: right;\n",
       "    }\n",
       "</style>\n",
       "<table border=\"1\" class=\"dataframe\">\n",
       "  <thead>\n",
       "    <tr style=\"text-align: right;\">\n",
       "      <th></th>\n",
       "      <th>0</th>\n",
       "      <th>1</th>\n",
       "      <th>2</th>\n",
       "      <th>3</th>\n",
       "      <th>4</th>\n",
       "      <th>5</th>\n",
       "      <th>6</th>\n",
       "      <th>7</th>\n",
       "      <th>8</th>\n",
       "      <th>9</th>\n",
       "      <th>...</th>\n",
       "      <th>40</th>\n",
       "      <th>41</th>\n",
       "      <th>42</th>\n",
       "      <th>43</th>\n",
       "      <th>44</th>\n",
       "      <th>45</th>\n",
       "      <th>46</th>\n",
       "      <th>47</th>\n",
       "      <th>48</th>\n",
       "      <th>49</th>\n",
       "    </tr>\n",
       "  </thead>\n",
       "  <tbody>\n",
       "    <tr>\n",
       "      <th>0</th>\n",
       "      <td>0.701417</td>\n",
       "      <td>0.765166</td>\n",
       "      <td>0.657102</td>\n",
       "      <td>0.675514</td>\n",
       "      <td>0.679387</td>\n",
       "      <td>0.766051</td>\n",
       "      <td>0.745799</td>\n",
       "      <td>0.610800</td>\n",
       "      <td>0.613555</td>\n",
       "      <td>0.662530</td>\n",
       "      <td>...</td>\n",
       "      <td>0.772419</td>\n",
       "      <td>0.630403</td>\n",
       "      <td>0.570829</td>\n",
       "      <td>0.860488</td>\n",
       "      <td>0.593747</td>\n",
       "      <td>0.747314</td>\n",
       "      <td>0.682674</td>\n",
       "      <td>0.633199</td>\n",
       "      <td>0.547850</td>\n",
       "      <td>0.699992</td>\n",
       "    </tr>\n",
       "    <tr>\n",
       "      <th>1</th>\n",
       "      <td>0.663811</td>\n",
       "      <td>0.675847</td>\n",
       "      <td>0.601183</td>\n",
       "      <td>0.618496</td>\n",
       "      <td>0.593022</td>\n",
       "      <td>0.708273</td>\n",
       "      <td>0.656053</td>\n",
       "      <td>0.603516</td>\n",
       "      <td>0.563284</td>\n",
       "      <td>0.623372</td>\n",
       "      <td>...</td>\n",
       "      <td>0.775330</td>\n",
       "      <td>0.567751</td>\n",
       "      <td>0.540483</td>\n",
       "      <td>0.747962</td>\n",
       "      <td>0.566635</td>\n",
       "      <td>0.660299</td>\n",
       "      <td>0.640610</td>\n",
       "      <td>0.603197</td>\n",
       "      <td>0.574945</td>\n",
       "      <td>0.616268</td>\n",
       "    </tr>\n",
       "    <tr>\n",
       "      <th>2</th>\n",
       "      <td>0.665757</td>\n",
       "      <td>0.705114</td>\n",
       "      <td>0.598581</td>\n",
       "      <td>0.645701</td>\n",
       "      <td>0.626375</td>\n",
       "      <td>0.647794</td>\n",
       "      <td>0.661819</td>\n",
       "      <td>0.587592</td>\n",
       "      <td>0.574578</td>\n",
       "      <td>0.619679</td>\n",
       "      <td>...</td>\n",
       "      <td>0.722107</td>\n",
       "      <td>0.632463</td>\n",
       "      <td>0.564555</td>\n",
       "      <td>0.659668</td>\n",
       "      <td>0.581629</td>\n",
       "      <td>0.651491</td>\n",
       "      <td>0.566414</td>\n",
       "      <td>0.562268</td>\n",
       "      <td>0.543672</td>\n",
       "      <td>0.609723</td>\n",
       "    </tr>\n",
       "    <tr>\n",
       "      <th>3</th>\n",
       "      <td>0.612682</td>\n",
       "      <td>0.604985</td>\n",
       "      <td>0.664560</td>\n",
       "      <td>0.570491</td>\n",
       "      <td>0.564099</td>\n",
       "      <td>0.817329</td>\n",
       "      <td>0.696756</td>\n",
       "      <td>0.736591</td>\n",
       "      <td>0.621027</td>\n",
       "      <td>0.734310</td>\n",
       "      <td>...</td>\n",
       "      <td>0.634765</td>\n",
       "      <td>0.658862</td>\n",
       "      <td>0.591320</td>\n",
       "      <td>0.591862</td>\n",
       "      <td>0.647464</td>\n",
       "      <td>0.782433</td>\n",
       "      <td>0.673770</td>\n",
       "      <td>0.663378</td>\n",
       "      <td>0.584540</td>\n",
       "      <td>0.638333</td>\n",
       "    </tr>\n",
       "    <tr>\n",
       "      <th>4</th>\n",
       "      <td>0.534002</td>\n",
       "      <td>0.686736</td>\n",
       "      <td>0.640086</td>\n",
       "      <td>0.558793</td>\n",
       "      <td>0.600115</td>\n",
       "      <td>0.771395</td>\n",
       "      <td>0.743748</td>\n",
       "      <td>0.610530</td>\n",
       "      <td>0.491431</td>\n",
       "      <td>0.618001</td>\n",
       "      <td>...</td>\n",
       "      <td>0.650081</td>\n",
       "      <td>0.578357</td>\n",
       "      <td>0.445484</td>\n",
       "      <td>0.724792</td>\n",
       "      <td>0.516756</td>\n",
       "      <td>0.742626</td>\n",
       "      <td>0.619884</td>\n",
       "      <td>0.517958</td>\n",
       "      <td>0.397867</td>\n",
       "      <td>0.633436</td>\n",
       "    </tr>\n",
       "  </tbody>\n",
       "</table>\n",
       "<p>5 rows × 50 columns</p>\n",
       "</div>"
      ],
      "text/plain": [
       "         0         1         2         3         4         5         6   \\\n",
       "0  0.701417  0.765166  0.657102  0.675514  0.679387  0.766051  0.745799   \n",
       "1  0.663811  0.675847  0.601183  0.618496  0.593022  0.708273  0.656053   \n",
       "2  0.665757  0.705114  0.598581  0.645701  0.626375  0.647794  0.661819   \n",
       "3  0.612682  0.604985  0.664560  0.570491  0.564099  0.817329  0.696756   \n",
       "4  0.534002  0.686736  0.640086  0.558793  0.600115  0.771395  0.743748   \n",
       "\n",
       "         7         8         9   ...        40        41        42        43  \\\n",
       "0  0.610800  0.613555  0.662530  ...  0.772419  0.630403  0.570829  0.860488   \n",
       "1  0.603516  0.563284  0.623372  ...  0.775330  0.567751  0.540483  0.747962   \n",
       "2  0.587592  0.574578  0.619679  ...  0.722107  0.632463  0.564555  0.659668   \n",
       "3  0.736591  0.621027  0.734310  ...  0.634765  0.658862  0.591320  0.591862   \n",
       "4  0.610530  0.491431  0.618001  ...  0.650081  0.578357  0.445484  0.724792   \n",
       "\n",
       "         44        45        46        47        48        49  \n",
       "0  0.593747  0.747314  0.682674  0.633199  0.547850  0.699992  \n",
       "1  0.566635  0.660299  0.640610  0.603197  0.574945  0.616268  \n",
       "2  0.581629  0.651491  0.566414  0.562268  0.543672  0.609723  \n",
       "3  0.647464  0.782433  0.673770  0.663378  0.584540  0.638333  \n",
       "4  0.516756  0.742626  0.619884  0.517958  0.397867  0.633436  \n",
       "\n",
       "[5 rows x 50 columns]"
      ]
     },
     "execution_count": 43,
     "metadata": {},
     "output_type": "execute_result"
    }
   ],
   "source": [
    "df = pd.DataFrame(d)\n",
    "df.head()"
   ]
  },
  {
   "cell_type": "code",
   "execution_count": 44,
   "metadata": {},
   "outputs": [],
   "source": [
    "mins = df.min(axis=1)"
   ]
  },
  {
   "cell_type": "code",
   "execution_count": 45,
   "metadata": {},
   "outputs": [
    {
     "data": {
      "text/plain": [
       "0     0.491887\n",
       "1     0.533653\n",
       "2     0.528738\n",
       "3     0.553295\n",
       "4     0.384531\n",
       "5     0.490522\n",
       "6     0.534162\n",
       "7     0.512426\n",
       "8     0.584067\n",
       "9     0.559412\n",
       "10    0.548694\n",
       "11    0.510198\n",
       "12    0.532295\n",
       "13    0.376438\n",
       "14    0.445212\n",
       "15    0.454757\n",
       "16    0.563480\n",
       "17    0.505894\n",
       "18    0.444747\n",
       "19    0.506158\n",
       "20    0.508878\n",
       "21    0.493005\n",
       "22    0.433523\n",
       "23    0.570509\n",
       "24    0.540758\n",
       "25    0.498530\n",
       "26    0.499141\n",
       "27    0.487042\n",
       "28    0.551799\n",
       "29    0.439440\n",
       "30    0.474253\n",
       "31    0.504102\n",
       "32    0.462020\n",
       "33    0.499480\n",
       "34    0.518831\n",
       "35    0.483803\n",
       "36    0.446146\n",
       "37    0.444906\n",
       "38    0.430967\n",
       "39    0.557569\n",
       "40    0.452472\n",
       "41    0.401423\n",
       "42    0.468695\n",
       "43    0.528580\n",
       "44    0.504257\n",
       "45    0.522232\n",
       "46    0.551420\n",
       "47    0.537774\n",
       "48    0.471515\n",
       "49    0.529940\n",
       "dtype: float64"
      ]
     },
     "execution_count": 45,
     "metadata": {},
     "output_type": "execute_result"
    }
   ],
   "source": [
    "mins"
   ]
  },
  {
   "cell_type": "code",
   "execution_count": null,
   "metadata": {},
   "outputs": [],
   "source": []
  }
 ],
 "metadata": {
  "kernelspec": {
   "display_name": "Python 3",
   "language": "python",
   "name": "python3"
  },
  "language_info": {
   "codemirror_mode": {
    "name": "ipython",
    "version": 3
   },
   "file_extension": ".py",
   "mimetype": "text/x-python",
   "name": "python",
   "nbconvert_exporter": "python",
   "pygments_lexer": "ipython3",
   "version": "3.7.6"
  }
 },
 "nbformat": 4,
 "nbformat_minor": 4
}
